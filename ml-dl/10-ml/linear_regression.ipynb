{
 "nbformat": 4,
 "nbformat_minor": 0,
 "metadata": {
  "colab": {
   "name": "04_Linear Regression.ipynb",
   "provenance": [],
   "collapsed_sections": [],
   "authorship_tag": "ABX9TyMfIuVVlQwc/lcX9AMhirL3"
  },
  "kernelspec": {
   "name": "python3",
   "display_name": "Python 3"
  },
  "language_info": {
   "name": "python"
  }
 },
 "cells": [
  {
   "cell_type": "markdown",
   "source": [
    "## Linear Regression"
   ],
   "metadata": {
    "collapsed": false
   }
  },
  {
   "cell_type": "code",
   "source": [
    "import pandas as pd\n",
    "\n",
    "file_url = 'https://media.githubusercontent.com/media/musthave-ML10/data_source/main/insurance.csv'\n",
    "data  = pd.read_csv(file_url)"
   ],
   "metadata": {
    "id": "gy_8ca6Q8dTv"
   },
   "execution_count": 3,
   "outputs": []
  },
  {
   "cell_type": "markdown",
   "source": [
    "## 데이터 확인"
   ],
   "metadata": {
    "id": "FqWhDAK28puK"
   }
  },
  {
   "cell_type": "code",
   "source": [
    "data"
   ],
   "metadata": {
    "colab": {
     "base_uri": "https://localhost:8080/",
     "height": 424
    },
    "id": "RiBQ_r1p8-SN",
    "executionInfo": {
     "status": "ok",
     "timestamp": 1647191607674,
     "user_tz": 240,
     "elapsed": 15,
     "user": {
      "displayName": "Sihyun Kwon",
      "photoUrl": "https://lh3.googleusercontent.com/a-/AOh14GjptZBUDXTw-vtetLWoyHScPskSGvFackGU2XKKGA=s64",
      "userId": "08571189456742629112"
     }
    },
    "outputId": "cba73fc9-e6fd-4c21-d880-068e70103180"
   },
   "execution_count": 4,
   "outputs": [
    {
     "data": {
      "text/plain": "      age  sex     bmi  children  smoker      charges\n0      19    0  27.900         0       1  16884.92400\n1      18    1  33.770         1       0   1725.55230\n2      28    1  33.000         3       0   4449.46200\n3      33    1  22.705         0       0  21984.47061\n4      32    1  28.880         0       0   3866.85520\n...   ...  ...     ...       ...     ...          ...\n1333   50    1  30.970         3       0  10600.54830\n1334   18    0  31.920         0       0   2205.98080\n1335   18    0  36.850         0       0   1629.83350\n1336   21    0  25.800         0       0   2007.94500\n1337   61    0  29.070         0       1  29141.36030\n\n[1338 rows x 6 columns]",
      "text/html": "<div>\n<style scoped>\n    .dataframe tbody tr th:only-of-type {\n        vertical-align: middle;\n    }\n\n    .dataframe tbody tr th {\n        vertical-align: top;\n    }\n\n    .dataframe thead th {\n        text-align: right;\n    }\n</style>\n<table border=\"1\" class=\"dataframe\">\n  <thead>\n    <tr style=\"text-align: right;\">\n      <th></th>\n      <th>age</th>\n      <th>sex</th>\n      <th>bmi</th>\n      <th>children</th>\n      <th>smoker</th>\n      <th>charges</th>\n    </tr>\n  </thead>\n  <tbody>\n    <tr>\n      <th>0</th>\n      <td>19</td>\n      <td>0</td>\n      <td>27.900</td>\n      <td>0</td>\n      <td>1</td>\n      <td>16884.92400</td>\n    </tr>\n    <tr>\n      <th>1</th>\n      <td>18</td>\n      <td>1</td>\n      <td>33.770</td>\n      <td>1</td>\n      <td>0</td>\n      <td>1725.55230</td>\n    </tr>\n    <tr>\n      <th>2</th>\n      <td>28</td>\n      <td>1</td>\n      <td>33.000</td>\n      <td>3</td>\n      <td>0</td>\n      <td>4449.46200</td>\n    </tr>\n    <tr>\n      <th>3</th>\n      <td>33</td>\n      <td>1</td>\n      <td>22.705</td>\n      <td>0</td>\n      <td>0</td>\n      <td>21984.47061</td>\n    </tr>\n    <tr>\n      <th>4</th>\n      <td>32</td>\n      <td>1</td>\n      <td>28.880</td>\n      <td>0</td>\n      <td>0</td>\n      <td>3866.85520</td>\n    </tr>\n    <tr>\n      <th>...</th>\n      <td>...</td>\n      <td>...</td>\n      <td>...</td>\n      <td>...</td>\n      <td>...</td>\n      <td>...</td>\n    </tr>\n    <tr>\n      <th>1333</th>\n      <td>50</td>\n      <td>1</td>\n      <td>30.970</td>\n      <td>3</td>\n      <td>0</td>\n      <td>10600.54830</td>\n    </tr>\n    <tr>\n      <th>1334</th>\n      <td>18</td>\n      <td>0</td>\n      <td>31.920</td>\n      <td>0</td>\n      <td>0</td>\n      <td>2205.98080</td>\n    </tr>\n    <tr>\n      <th>1335</th>\n      <td>18</td>\n      <td>0</td>\n      <td>36.850</td>\n      <td>0</td>\n      <td>0</td>\n      <td>1629.83350</td>\n    </tr>\n    <tr>\n      <th>1336</th>\n      <td>21</td>\n      <td>0</td>\n      <td>25.800</td>\n      <td>0</td>\n      <td>0</td>\n      <td>2007.94500</td>\n    </tr>\n    <tr>\n      <th>1337</th>\n      <td>61</td>\n      <td>0</td>\n      <td>29.070</td>\n      <td>0</td>\n      <td>1</td>\n      <td>29141.36030</td>\n    </tr>\n  </tbody>\n</table>\n<p>1338 rows × 6 columns</p>\n</div>"
     },
     "execution_count": 4,
     "metadata": {},
     "output_type": "execute_result"
    }
   ]
  },
  {
   "cell_type": "code",
   "source": [
    "data.head()"
   ],
   "metadata": {
    "colab": {
     "base_uri": "https://localhost:8080/",
     "height": 206
    },
    "id": "6CmW2CVD8_UD",
    "executionInfo": {
     "status": "ok",
     "timestamp": 1647191607677,
     "user_tz": 240,
     "elapsed": 15,
     "user": {
      "displayName": "Sihyun Kwon",
      "photoUrl": "https://lh3.googleusercontent.com/a-/AOh14GjptZBUDXTw-vtetLWoyHScPskSGvFackGU2XKKGA=s64",
      "userId": "08571189456742629112"
     }
    },
    "outputId": "3aa29a18-fc73-4e42-ccf6-71dbaf3bf19a"
   },
   "execution_count": 5,
   "outputs": [
    {
     "data": {
      "text/plain": "   age  sex     bmi  children  smoker      charges\n0   19    0  27.900         0       1  16884.92400\n1   18    1  33.770         1       0   1725.55230\n2   28    1  33.000         3       0   4449.46200\n3   33    1  22.705         0       0  21984.47061\n4   32    1  28.880         0       0   3866.85520",
      "text/html": "<div>\n<style scoped>\n    .dataframe tbody tr th:only-of-type {\n        vertical-align: middle;\n    }\n\n    .dataframe tbody tr th {\n        vertical-align: top;\n    }\n\n    .dataframe thead th {\n        text-align: right;\n    }\n</style>\n<table border=\"1\" class=\"dataframe\">\n  <thead>\n    <tr style=\"text-align: right;\">\n      <th></th>\n      <th>age</th>\n      <th>sex</th>\n      <th>bmi</th>\n      <th>children</th>\n      <th>smoker</th>\n      <th>charges</th>\n    </tr>\n  </thead>\n  <tbody>\n    <tr>\n      <th>0</th>\n      <td>19</td>\n      <td>0</td>\n      <td>27.900</td>\n      <td>0</td>\n      <td>1</td>\n      <td>16884.92400</td>\n    </tr>\n    <tr>\n      <th>1</th>\n      <td>18</td>\n      <td>1</td>\n      <td>33.770</td>\n      <td>1</td>\n      <td>0</td>\n      <td>1725.55230</td>\n    </tr>\n    <tr>\n      <th>2</th>\n      <td>28</td>\n      <td>1</td>\n      <td>33.000</td>\n      <td>3</td>\n      <td>0</td>\n      <td>4449.46200</td>\n    </tr>\n    <tr>\n      <th>3</th>\n      <td>33</td>\n      <td>1</td>\n      <td>22.705</td>\n      <td>0</td>\n      <td>0</td>\n      <td>21984.47061</td>\n    </tr>\n    <tr>\n      <th>4</th>\n      <td>32</td>\n      <td>1</td>\n      <td>28.880</td>\n      <td>0</td>\n      <td>0</td>\n      <td>3866.85520</td>\n    </tr>\n  </tbody>\n</table>\n</div>"
     },
     "execution_count": 5,
     "metadata": {},
     "output_type": "execute_result"
    }
   ]
  },
  {
   "cell_type": "code",
   "source": [
    "data.info()"
   ],
   "metadata": {
    "colab": {
     "base_uri": "https://localhost:8080/"
    },
    "id": "Jk09iFj_9AyD",
    "executionInfo": {
     "status": "ok",
     "timestamp": 1647191607678,
     "user_tz": 240,
     "elapsed": 14,
     "user": {
      "displayName": "Sihyun Kwon",
      "photoUrl": "https://lh3.googleusercontent.com/a-/AOh14GjptZBUDXTw-vtetLWoyHScPskSGvFackGU2XKKGA=s64",
      "userId": "08571189456742629112"
     }
    },
    "outputId": "f1a0cebd-026d-437c-9533-05b8170426d6"
   },
   "execution_count": 6,
   "outputs": [
    {
     "name": "stdout",
     "output_type": "stream",
     "text": [
      "<class 'pandas.core.frame.DataFrame'>\n",
      "RangeIndex: 1338 entries, 0 to 1337\n",
      "Data columns (total 6 columns):\n",
      " #   Column    Non-Null Count  Dtype  \n",
      "---  ------    --------------  -----  \n",
      " 0   age       1338 non-null   int64  \n",
      " 1   sex       1338 non-null   int64  \n",
      " 2   bmi       1338 non-null   float64\n",
      " 3   children  1338 non-null   int64  \n",
      " 4   smoker    1338 non-null   int64  \n",
      " 5   charges   1338 non-null   float64\n",
      "dtypes: float64(2), int64(4)\n",
      "memory usage: 62.8 KB\n"
     ]
    }
   ]
  },
  {
   "cell_type": "code",
   "source": [
    "data.describe()"
   ],
   "metadata": {
    "colab": {
     "base_uri": "https://localhost:8080/",
     "height": 300
    },
    "id": "opVDvbYt9CR0",
    "executionInfo": {
     "status": "ok",
     "timestamp": 1647191607856,
     "user_tz": 240,
     "elapsed": 189,
     "user": {
      "displayName": "Sihyun Kwon",
      "photoUrl": "https://lh3.googleusercontent.com/a-/AOh14GjptZBUDXTw-vtetLWoyHScPskSGvFackGU2XKKGA=s64",
      "userId": "08571189456742629112"
     }
    },
    "outputId": "88cb29f1-da7c-4422-dc19-26f347bf7bd4"
   },
   "execution_count": 7,
   "outputs": [
    {
     "data": {
      "text/plain": "               age          sex          bmi     children       smoker  \\\ncount  1338.000000  1338.000000  1338.000000  1338.000000  1338.000000   \nmean     39.207025     0.505232    30.663397     1.094918     0.204783   \nstd      14.049960     0.500160     6.098187     1.205493     0.403694   \nmin      18.000000     0.000000    15.960000     0.000000     0.000000   \n25%      27.000000     0.000000    26.296250     0.000000     0.000000   \n50%      39.000000     1.000000    30.400000     1.000000     0.000000   \n75%      51.000000     1.000000    34.693750     2.000000     0.000000   \nmax      64.000000     1.000000    53.130000     5.000000     1.000000   \n\n            charges  \ncount   1338.000000  \nmean   13270.422265  \nstd    12110.011237  \nmin     1121.873900  \n25%     4740.287150  \n50%     9382.033000  \n75%    16639.912515  \nmax    63770.428010  ",
      "text/html": "<div>\n<style scoped>\n    .dataframe tbody tr th:only-of-type {\n        vertical-align: middle;\n    }\n\n    .dataframe tbody tr th {\n        vertical-align: top;\n    }\n\n    .dataframe thead th {\n        text-align: right;\n    }\n</style>\n<table border=\"1\" class=\"dataframe\">\n  <thead>\n    <tr style=\"text-align: right;\">\n      <th></th>\n      <th>age</th>\n      <th>sex</th>\n      <th>bmi</th>\n      <th>children</th>\n      <th>smoker</th>\n      <th>charges</th>\n    </tr>\n  </thead>\n  <tbody>\n    <tr>\n      <th>count</th>\n      <td>1338.000000</td>\n      <td>1338.000000</td>\n      <td>1338.000000</td>\n      <td>1338.000000</td>\n      <td>1338.000000</td>\n      <td>1338.000000</td>\n    </tr>\n    <tr>\n      <th>mean</th>\n      <td>39.207025</td>\n      <td>0.505232</td>\n      <td>30.663397</td>\n      <td>1.094918</td>\n      <td>0.204783</td>\n      <td>13270.422265</td>\n    </tr>\n    <tr>\n      <th>std</th>\n      <td>14.049960</td>\n      <td>0.500160</td>\n      <td>6.098187</td>\n      <td>1.205493</td>\n      <td>0.403694</td>\n      <td>12110.011237</td>\n    </tr>\n    <tr>\n      <th>min</th>\n      <td>18.000000</td>\n      <td>0.000000</td>\n      <td>15.960000</td>\n      <td>0.000000</td>\n      <td>0.000000</td>\n      <td>1121.873900</td>\n    </tr>\n    <tr>\n      <th>25%</th>\n      <td>27.000000</td>\n      <td>0.000000</td>\n      <td>26.296250</td>\n      <td>0.000000</td>\n      <td>0.000000</td>\n      <td>4740.287150</td>\n    </tr>\n    <tr>\n      <th>50%</th>\n      <td>39.000000</td>\n      <td>1.000000</td>\n      <td>30.400000</td>\n      <td>1.000000</td>\n      <td>0.000000</td>\n      <td>9382.033000</td>\n    </tr>\n    <tr>\n      <th>75%</th>\n      <td>51.000000</td>\n      <td>1.000000</td>\n      <td>34.693750</td>\n      <td>2.000000</td>\n      <td>0.000000</td>\n      <td>16639.912515</td>\n    </tr>\n    <tr>\n      <th>max</th>\n      <td>64.000000</td>\n      <td>1.000000</td>\n      <td>53.130000</td>\n      <td>5.000000</td>\n      <td>1.000000</td>\n      <td>63770.428010</td>\n    </tr>\n  </tbody>\n</table>\n</div>"
     },
     "execution_count": 7,
     "metadata": {},
     "output_type": "execute_result"
    }
   ]
  },
  {
   "cell_type": "code",
   "source": [
    "round(data.describe(), 2)"
   ],
   "metadata": {
    "colab": {
     "base_uri": "https://localhost:8080/",
     "height": 300
    },
    "id": "pS-AKJyD9X8X",
    "executionInfo": {
     "status": "ok",
     "timestamp": 1647191607857,
     "user_tz": 240,
     "elapsed": 11,
     "user": {
      "displayName": "Sihyun Kwon",
      "photoUrl": "https://lh3.googleusercontent.com/a-/AOh14GjptZBUDXTw-vtetLWoyHScPskSGvFackGU2XKKGA=s64",
      "userId": "08571189456742629112"
     }
    },
    "outputId": "74d3372f-6727-4492-f710-98e6c2c3aa72"
   },
   "execution_count": 5,
   "outputs": [
    {
     "data": {
      "text/plain": "           age      sex      bmi  children  smoker   charges\ncount  1338.00  1338.00  1338.00   1338.00  1338.0   1338.00\nmean     39.21     0.51    30.66      1.09     0.2  13270.42\nstd      14.05     0.50     6.10      1.21     0.4  12110.01\nmin      18.00     0.00    15.96      0.00     0.0   1121.87\n25%      27.00     0.00    26.30      0.00     0.0   4740.29\n50%      39.00     1.00    30.40      1.00     0.0   9382.03\n75%      51.00     1.00    34.69      2.00     0.0  16639.91\nmax      64.00     1.00    53.13      5.00     1.0  63770.43",
      "text/html": "<div>\n<style scoped>\n    .dataframe tbody tr th:only-of-type {\n        vertical-align: middle;\n    }\n\n    .dataframe tbody tr th {\n        vertical-align: top;\n    }\n\n    .dataframe thead th {\n        text-align: right;\n    }\n</style>\n<table border=\"1\" class=\"dataframe\">\n  <thead>\n    <tr style=\"text-align: right;\">\n      <th></th>\n      <th>age</th>\n      <th>sex</th>\n      <th>bmi</th>\n      <th>children</th>\n      <th>smoker</th>\n      <th>charges</th>\n    </tr>\n  </thead>\n  <tbody>\n    <tr>\n      <th>count</th>\n      <td>1338.00</td>\n      <td>1338.00</td>\n      <td>1338.00</td>\n      <td>1338.00</td>\n      <td>1338.0</td>\n      <td>1338.00</td>\n    </tr>\n    <tr>\n      <th>mean</th>\n      <td>39.21</td>\n      <td>0.51</td>\n      <td>30.66</td>\n      <td>1.09</td>\n      <td>0.2</td>\n      <td>13270.42</td>\n    </tr>\n    <tr>\n      <th>std</th>\n      <td>14.05</td>\n      <td>0.50</td>\n      <td>6.10</td>\n      <td>1.21</td>\n      <td>0.4</td>\n      <td>12110.01</td>\n    </tr>\n    <tr>\n      <th>min</th>\n      <td>18.00</td>\n      <td>0.00</td>\n      <td>15.96</td>\n      <td>0.00</td>\n      <td>0.0</td>\n      <td>1121.87</td>\n    </tr>\n    <tr>\n      <th>25%</th>\n      <td>27.00</td>\n      <td>0.00</td>\n      <td>26.30</td>\n      <td>0.00</td>\n      <td>0.0</td>\n      <td>4740.29</td>\n    </tr>\n    <tr>\n      <th>50%</th>\n      <td>39.00</td>\n      <td>1.00</td>\n      <td>30.40</td>\n      <td>1.00</td>\n      <td>0.0</td>\n      <td>9382.03</td>\n    </tr>\n    <tr>\n      <th>75%</th>\n      <td>51.00</td>\n      <td>1.00</td>\n      <td>34.69</td>\n      <td>2.00</td>\n      <td>0.0</td>\n      <td>16639.91</td>\n    </tr>\n    <tr>\n      <th>max</th>\n      <td>64.00</td>\n      <td>1.00</td>\n      <td>53.13</td>\n      <td>5.00</td>\n      <td>1.0</td>\n      <td>63770.43</td>\n    </tr>\n  </tbody>\n</table>\n</div>"
     },
     "execution_count": 5,
     "metadata": {},
     "output_type": "execute_result"
    }
   ]
  },
  {
   "cell_type": "markdown",
   "source": [
    "## 전처리: 학습셋과 실험셋 나누기"
   ],
   "metadata": {
    "id": "Ekl5zYRI9Z0f"
   }
  },
  {
   "cell_type": "code",
   "source": [
    "X = data[['age', 'sex', 'bmi', 'children', 'smoker']]\n",
    "y = data['charges']\n",
    "\n",
    "from sklearn.model_selection import train_test_split\n",
    "\n",
    "X_train, X_test, y_train, y_test = train_test_split(X, y, test_size = 0.2, random_state=100)"
   ],
   "metadata": {
    "id": "-rNKk9-I-VS-"
   },
   "execution_count": 6,
   "outputs": []
  },
  {
   "cell_type": "markdown",
   "source": [
    "## 모델링"
   ],
   "metadata": {
    "id": "OmRUjIgJ-ZVP"
   }
  },
  {
   "cell_type": "code",
   "source": [
    "from sklearn.linear_model import LinearRegression\n",
    "\n",
    "# model이란 객체에 linear regression 속성 부여\n",
    "model = LinearRegression()\n",
    "# 학습 시작\n",
    "model.fit(X_train, y_train)"
   ],
   "metadata": {
    "id": "PcKFP6JD-cwn"
   },
   "execution_count": 7,
   "outputs": [
    {
     "data": {
      "text/plain": "LinearRegression()",
      "text/html": "<style>#sk-container-id-1 {color: black;background-color: white;}#sk-container-id-1 pre{padding: 0;}#sk-container-id-1 div.sk-toggleable {background-color: white;}#sk-container-id-1 label.sk-toggleable__label {cursor: pointer;display: block;width: 100%;margin-bottom: 0;padding: 0.3em;box-sizing: border-box;text-align: center;}#sk-container-id-1 label.sk-toggleable__label-arrow:before {content: \"▸\";float: left;margin-right: 0.25em;color: #696969;}#sk-container-id-1 label.sk-toggleable__label-arrow:hover:before {color: black;}#sk-container-id-1 div.sk-estimator:hover label.sk-toggleable__label-arrow:before {color: black;}#sk-container-id-1 div.sk-toggleable__content {max-height: 0;max-width: 0;overflow: hidden;text-align: left;background-color: #f0f8ff;}#sk-container-id-1 div.sk-toggleable__content pre {margin: 0.2em;color: black;border-radius: 0.25em;background-color: #f0f8ff;}#sk-container-id-1 input.sk-toggleable__control:checked~div.sk-toggleable__content {max-height: 200px;max-width: 100%;overflow: auto;}#sk-container-id-1 input.sk-toggleable__control:checked~label.sk-toggleable__label-arrow:before {content: \"▾\";}#sk-container-id-1 div.sk-estimator input.sk-toggleable__control:checked~label.sk-toggleable__label {background-color: #d4ebff;}#sk-container-id-1 div.sk-label input.sk-toggleable__control:checked~label.sk-toggleable__label {background-color: #d4ebff;}#sk-container-id-1 input.sk-hidden--visually {border: 0;clip: rect(1px 1px 1px 1px);clip: rect(1px, 1px, 1px, 1px);height: 1px;margin: -1px;overflow: hidden;padding: 0;position: absolute;width: 1px;}#sk-container-id-1 div.sk-estimator {font-family: monospace;background-color: #f0f8ff;border: 1px dotted black;border-radius: 0.25em;box-sizing: border-box;margin-bottom: 0.5em;}#sk-container-id-1 div.sk-estimator:hover {background-color: #d4ebff;}#sk-container-id-1 div.sk-parallel-item::after {content: \"\";width: 100%;border-bottom: 1px solid gray;flex-grow: 1;}#sk-container-id-1 div.sk-label:hover label.sk-toggleable__label {background-color: #d4ebff;}#sk-container-id-1 div.sk-serial::before {content: \"\";position: absolute;border-left: 1px solid gray;box-sizing: border-box;top: 0;bottom: 0;left: 50%;z-index: 0;}#sk-container-id-1 div.sk-serial {display: flex;flex-direction: column;align-items: center;background-color: white;padding-right: 0.2em;padding-left: 0.2em;position: relative;}#sk-container-id-1 div.sk-item {position: relative;z-index: 1;}#sk-container-id-1 div.sk-parallel {display: flex;align-items: stretch;justify-content: center;background-color: white;position: relative;}#sk-container-id-1 div.sk-item::before, #sk-container-id-1 div.sk-parallel-item::before {content: \"\";position: absolute;border-left: 1px solid gray;box-sizing: border-box;top: 0;bottom: 0;left: 50%;z-index: -1;}#sk-container-id-1 div.sk-parallel-item {display: flex;flex-direction: column;z-index: 1;position: relative;background-color: white;}#sk-container-id-1 div.sk-parallel-item:first-child::after {align-self: flex-end;width: 50%;}#sk-container-id-1 div.sk-parallel-item:last-child::after {align-self: flex-start;width: 50%;}#sk-container-id-1 div.sk-parallel-item:only-child::after {width: 0;}#sk-container-id-1 div.sk-dashed-wrapped {border: 1px dashed gray;margin: 0 0.4em 0.5em 0.4em;box-sizing: border-box;padding-bottom: 0.4em;background-color: white;}#sk-container-id-1 div.sk-label label {font-family: monospace;font-weight: bold;display: inline-block;line-height: 1.2em;}#sk-container-id-1 div.sk-label-container {text-align: center;}#sk-container-id-1 div.sk-container {/* jupyter's `normalize.less` sets `[hidden] { display: none; }` but bootstrap.min.css set `[hidden] { display: none !important; }` so we also need the `!important` here to be able to override the default hidden behavior on the sphinx rendered scikit-learn.org. See: https://github.com/scikit-learn/scikit-learn/issues/21755 */display: inline-block !important;position: relative;}#sk-container-id-1 div.sk-text-repr-fallback {display: none;}</style><div id=\"sk-container-id-1\" class=\"sk-top-container\"><div class=\"sk-text-repr-fallback\"><pre>LinearRegression()</pre><b>In a Jupyter environment, please rerun this cell to show the HTML representation or trust the notebook. <br />On GitHub, the HTML representation is unable to render, please try loading this page with nbviewer.org.</b></div><div class=\"sk-container\" hidden><div class=\"sk-item\"><div class=\"sk-estimator sk-toggleable\"><input class=\"sk-toggleable__control sk-hidden--visually\" id=\"sk-estimator-id-1\" type=\"checkbox\" checked><label for=\"sk-estimator-id-1\" class=\"sk-toggleable__label sk-toggleable__label-arrow\">LinearRegression</label><div class=\"sk-toggleable__content\"><pre>LinearRegression()</pre></div></div></div></div></div>"
     },
     "execution_count": 7,
     "metadata": {},
     "output_type": "execute_result"
    }
   ]
  },
  {
   "cell_type": "markdown",
   "source": [
    "## 모델을 활용해 예측하기"
   ],
   "metadata": {
    "id": "GCW3W8E4-lGY"
   }
  },
  {
   "cell_type": "code",
   "source": [
    "pred = model.predict(X_test)"
   ],
   "metadata": {
    "id": "9t-Yg0oY-ml4"
   },
   "execution_count": 8,
   "outputs": []
  },
  {
   "cell_type": "markdown",
   "source": [
    "## 예측 모델 평가하기"
   ],
   "metadata": {
    "id": "ui_GFCmn-nkx"
   }
  },
  {
   "cell_type": "code",
   "source": [
    "comparison = pd.DataFrame({'actual': y_test, 'pred': pred})"
   ],
   "metadata": {
    "id": "jmHgS2q_-rY5"
   },
   "execution_count": 9,
   "outputs": []
  },
  {
   "cell_type": "code",
   "source": [
    "comparison"
   ],
   "metadata": {
    "colab": {
     "base_uri": "https://localhost:8080/",
     "height": 424
    },
    "id": "Cm0RWthl-shp",
    "executionInfo": {
     "status": "ok",
     "timestamp": 1647191609017,
     "user_tz": 240,
     "elapsed": 11,
     "user": {
      "displayName": "Sihyun Kwon",
      "photoUrl": "https://lh3.googleusercontent.com/a-/AOh14GjptZBUDXTw-vtetLWoyHScPskSGvFackGU2XKKGA=s64",
      "userId": "08571189456742629112"
     }
    },
    "outputId": "09233f46-976f-4090-d4cb-62b489ace684"
   },
   "execution_count": 10,
   "outputs": [
    {
     "data": {
      "text/plain": "           actual          pred\n12     1826.84300   4765.249466\n306   20177.67113   4957.730865\n318    7421.19455   8298.988153\n815    1877.92940   3078.811868\n157   15518.18025  24165.956542\n...           ...           ...\n713    1984.45330   5776.764928\n1282  14283.45940  23102.847340\n531   14043.47670  14280.732585\n537    8825.08600  10527.417291\n1015  12124.99240  11638.260006\n\n[268 rows x 2 columns]",
      "text/html": "<div>\n<style scoped>\n    .dataframe tbody tr th:only-of-type {\n        vertical-align: middle;\n    }\n\n    .dataframe tbody tr th {\n        vertical-align: top;\n    }\n\n    .dataframe thead th {\n        text-align: right;\n    }\n</style>\n<table border=\"1\" class=\"dataframe\">\n  <thead>\n    <tr style=\"text-align: right;\">\n      <th></th>\n      <th>actual</th>\n      <th>pred</th>\n    </tr>\n  </thead>\n  <tbody>\n    <tr>\n      <th>12</th>\n      <td>1826.84300</td>\n      <td>4765.249466</td>\n    </tr>\n    <tr>\n      <th>306</th>\n      <td>20177.67113</td>\n      <td>4957.730865</td>\n    </tr>\n    <tr>\n      <th>318</th>\n      <td>7421.19455</td>\n      <td>8298.988153</td>\n    </tr>\n    <tr>\n      <th>815</th>\n      <td>1877.92940</td>\n      <td>3078.811868</td>\n    </tr>\n    <tr>\n      <th>157</th>\n      <td>15518.18025</td>\n      <td>24165.956542</td>\n    </tr>\n    <tr>\n      <th>...</th>\n      <td>...</td>\n      <td>...</td>\n    </tr>\n    <tr>\n      <th>713</th>\n      <td>1984.45330</td>\n      <td>5776.764928</td>\n    </tr>\n    <tr>\n      <th>1282</th>\n      <td>14283.45940</td>\n      <td>23102.847340</td>\n    </tr>\n    <tr>\n      <th>531</th>\n      <td>14043.47670</td>\n      <td>14280.732585</td>\n    </tr>\n    <tr>\n      <th>537</th>\n      <td>8825.08600</td>\n      <td>10527.417291</td>\n    </tr>\n    <tr>\n      <th>1015</th>\n      <td>12124.99240</td>\n      <td>11638.260006</td>\n    </tr>\n  </tbody>\n</table>\n<p>268 rows × 2 columns</p>\n</div>"
     },
     "execution_count": 10,
     "metadata": {},
     "output_type": "execute_result"
    }
   ]
  },
  {
   "cell_type": "code",
   "source": [
    "import matplotlib.pyplot as plt  # ❶\n",
    "import seaborn as sns  # ❷"
   ],
   "metadata": {
    "id": "BXtsrgzv-tWZ"
   },
   "execution_count": 18,
   "outputs": []
  },
  {
   "cell_type": "code",
   "source": [
    "plt.figure(figsize=(10,10))  # ❶ 그래프 크기를 정의\n",
    "sns.scatterplot(x='actual', y='pred', data=comparison)  # ❷"
   ],
   "metadata": {
    "colab": {
     "base_uri": "https://localhost:8080/",
     "height": 623
    },
    "id": "wSBVnq2d-v9q",
    "executionInfo": {
     "status": "ok",
     "timestamp": 1647191609956,
     "user_tz": 240,
     "elapsed": 781,
     "user": {
      "displayName": "Sihyun Kwon",
      "photoUrl": "https://lh3.googleusercontent.com/a-/AOh14GjptZBUDXTw-vtetLWoyHScPskSGvFackGU2XKKGA=s64",
      "userId": "08571189456742629112"
     }
    },
    "outputId": "ed92f967-4164-4657-a009-be557f1cd056"
   },
   "execution_count": 19,
   "outputs": [
    {
     "data": {
      "text/plain": "<AxesSubplot: xlabel='actual', ylabel='pred'>"
     },
     "execution_count": 19,
     "metadata": {},
     "output_type": "execute_result"
    },
    {
     "data": {
      "text/plain": "<Figure size 1000x1000 with 1 Axes>",
      "image/png": "[encoded data removed]"
     },
     "metadata": {},
     "output_type": "display_data"
    }
   ]
  },
  {
   "cell_type": "code",
   "source": [
    "from sklearn.metrics import mean_squared_error # ❶\n",
    "mean_squared_error(y_test, pred) ** 0.5 # ❷"
   ],
   "metadata": {
    "colab": {
     "base_uri": "https://localhost:8080/"
    },
    "id": "FZBvnJtk-xUa",
    "executionInfo": {
     "status": "ok",
     "timestamp": 1647191609958,
     "user_tz": 240,
     "elapsed": 11,
     "user": {
      "displayName": "Sihyun Kwon",
      "photoUrl": "https://lh3.googleusercontent.com/a-/AOh14GjptZBUDXTw-vtetLWoyHScPskSGvFackGU2XKKGA=s64",
      "userId": "08571189456742629112"
     }
    },
    "outputId": "6707feb3-ff11-4c3a-dc84-41ad78f6a651"
   },
   "execution_count": 20,
   "outputs": [
    {
     "data": {
      "text/plain": "5684.927776334484"
     },
     "execution_count": 20,
     "metadata": {},
     "output_type": "execute_result"
    }
   ]
  },
  {
   "cell_type": "code",
   "source": [
    "mean_squared_error(y_test, pred, squared = False)"
   ],
   "metadata": {
    "colab": {
     "base_uri": "https://localhost:8080/"
    },
    "id": "h9MdA1ZhRR3h",
    "executionInfo": {
     "status": "ok",
     "timestamp": 1647191631482,
     "user_tz": 240,
     "elapsed": 147,
     "user": {
      "displayName": "Sihyun Kwon",
      "photoUrl": "https://lh3.googleusercontent.com/a-/AOh14GjptZBUDXTw-vtetLWoyHScPskSGvFackGU2XKKGA=s64",
      "userId": "08571189456742629112"
     }
    },
    "outputId": "f824c099-72ea-4b8e-b66a-f48a9f544b47"
   },
   "execution_count": 21,
   "outputs": [
    {
     "data": {
      "text/plain": "5684.927776334484"
     },
     "execution_count": 21,
     "metadata": {},
     "output_type": "execute_result"
    }
   ]
  },
  {
   "cell_type": "code",
   "source": [
    "model.score(X_train, y_train)"
   ],
   "metadata": {
    "colab": {
     "base_uri": "https://localhost:8080/"
    },
    "id": "nZyh7ebB_9dz",
    "executionInfo": {
     "status": "ok",
     "timestamp": 1647191633313,
     "user_tz": 240,
     "elapsed": 136,
     "user": {
      "displayName": "Sihyun Kwon",
      "photoUrl": "https://lh3.googleusercontent.com/a-/AOh14GjptZBUDXTw-vtetLWoyHScPskSGvFackGU2XKKGA=s64",
      "userId": "08571189456742629112"
     }
    },
    "outputId": "cce989f3-645d-4ded-a3c1-481304d8da3c"
   },
   "execution_count": 22,
   "outputs": [
    {
     "data": {
      "text/plain": "0.7368220127747351"
     },
     "execution_count": 22,
     "metadata": {},
     "output_type": "execute_result"
    }
   ]
  },
  {
   "cell_type": "markdown",
   "source": [
    "## 4.8 이해하기 : 선형 회귀 (Linear Regression)"
   ],
   "metadata": {
    "id": "6NvjH1lO-zxK"
   }
  },
  {
   "cell_type": "code",
   "source": [
    "model.coef_"
   ],
   "metadata": {
    "colab": {
     "base_uri": "https://localhost:8080/"
    },
    "id": "2VGESYep_Rxf",
    "executionInfo": {
     "status": "ok",
     "timestamp": 1647191634491,
     "user_tz": 240,
     "elapsed": 141,
     "user": {
      "displayName": "Sihyun Kwon",
      "photoUrl": "https://lh3.googleusercontent.com/a-/AOh14GjptZBUDXTw-vtetLWoyHScPskSGvFackGU2XKKGA=s64",
      "userId": "08571189456742629112"
     }
    },
    "outputId": "45a6a015-070a-4f43-ccf2-b4c4cbe1f678"
   },
   "execution_count": 23,
   "outputs": [
    {
     "data": {
      "text/plain": "array([2.64799803e+02, 1.73446608e+01, 2.97514806e+02, 4.69339602e+02,\n       2.34692802e+04])"
     },
     "execution_count": 23,
     "metadata": {},
     "output_type": "execute_result"
    }
   ]
  },
  {
   "cell_type": "code",
   "source": [
    "pd.Series(model.coef_, index = X.columns)"
   ],
   "metadata": {
    "colab": {
     "base_uri": "https://localhost:8080/"
    },
    "id": "SwlrljEv_UBP",
    "executionInfo": {
     "status": "ok",
     "timestamp": 1647191634638,
     "user_tz": 240,
     "elapsed": 3,
     "user": {
      "displayName": "Sihyun Kwon",
      "photoUrl": "https://lh3.googleusercontent.com/a-/AOh14GjptZBUDXTw-vtetLWoyHScPskSGvFackGU2XKKGA=s64",
      "userId": "08571189456742629112"
     }
    },
    "outputId": "6602e0eb-4d26-40a7-c907-fcf87148c1f9"
   },
   "execution_count": 24,
   "outputs": [
    {
     "data": {
      "text/plain": "age           264.799803\nsex            17.344661\nbmi           297.514806\nchildren      469.339602\nsmoker      23469.280173\ndtype: float64"
     },
     "execution_count": 24,
     "metadata": {},
     "output_type": "execute_result"
    }
   ]
  },
  {
   "cell_type": "code",
   "source": [
    "model.intercept_"
   ],
   "metadata": {
    "id": "LP4Gboyy_VXY",
    "executionInfo": {
     "status": "ok",
     "timestamp": 1647191635309,
     "user_tz": 240,
     "elapsed": 3,
     "user": {
      "displayName": "Sihyun Kwon",
      "photoUrl": "https://lh3.googleusercontent.com/a-/AOh14GjptZBUDXTw-vtetLWoyHScPskSGvFackGU2XKKGA=s64",
      "userId": "08571189456742629112"
     }
    },
    "outputId": "4be48e31-6b66-42ec-a65c-547ccad1e038",
    "colab": {
     "base_uri": "https://localhost:8080/"
    }
   },
   "execution_count": 25,
   "outputs": [
    {
     "data": {
      "text/plain": "-11576.99997611237"
     },
     "execution_count": 25,
     "metadata": {},
     "output_type": "execute_result"
    }
   ]
  }
 ]
}
